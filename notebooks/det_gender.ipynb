{
 "metadata": {
  "language_info": {
   "codemirror_mode": {
    "name": "ipython",
    "version": 3
   },
   "file_extension": ".py",
   "mimetype": "text/x-python",
   "name": "python",
   "nbconvert_exporter": "python",
   "pygments_lexer": "ipython3",
   "version": "3.6.9"
  },
  "orig_nbformat": 2,
  "kernelspec": {
   "name": "python369jvsc74a57bd031f2aee4e71d21fbe5cf8b01ff0e069b9275f58929596ceb00d14d90e3e16cd6",
   "display_name": "Python 3.6.9 64-bit"
  },
  "metadata": {
   "interpreter": {
    "hash": "31f2aee4e71d21fbe5cf8b01ff0e069b9275f58929596ceb00d14d90e3e16cd6"
   }
  }
 },
 "nbformat": 4,
 "nbformat_minor": 2,
 "cells": [
  {
   "cell_type": "code",
   "execution_count": null,
   "metadata": {},
   "outputs": [],
   "source": [
    "if not os.path.isfile(\"estrutura_ud.py\"):\n",
    "    ! wget https://raw.githubusercontent.com/alvelvis/ACDC-UD/master/estrutura_ud.py\n",
    "import estrutura_ud"
   ]
  },
  {
   "cell_type": "code",
   "execution_count": null,
   "metadata": {},
   "outputs": [],
   "source": [
    "file = \"../Petroles_3/Petroles_3_golden.conllu\"\n",
    "corpus = estrutura_ud.Corpus(recursivo=True)\n",
    "corpus.load(file)\n",
    "\n",
    "for sentence in corpus.sentences.values():\n",
    "    for token in sentence.tokens:\n",
    "        if token.word.lower() in [\"fácie\", \"fácies\"]:\n",
    "            token.lemma = \"fácies\"\n",
    "            if token.upos == \"ADJ\":\n",
    "                token.upos = \"NOUN\"\n",
    "                token.deprel = token.head_token.deprel\n",
    "                token.dephead = token.head_token.dephead\n",
    "                token.head_token.dephead = token.id\n",
    "                token.head_token.upos = \"ADJ\"\n",
    "                token.head_token.deprel = \"amod\"\n",
    "                for _token in sentence.tokens:\n",
    "                    if _token.dephead == token.head_token.id:\n",
    "                        _token.dephead = token.id\n",
    "    \n",
    "    for token in sentence.tokens:\n",
    "        if token.deprel == \"det\" and token.head_token.upos not in [\"VERB\", \"NUM\"]:\n",
    "            if 'PronType=Art' in token.feats or 'PronType=Dem' in token.feats:\n",
    "                for feat in [\"Gender=\", \"Number=\"]:\n",
    "                    if feat in token.feats:\n",
    "                        token.head_token.feats = \"|\".join(sorted(\n",
    "                            [x for x in token.head_token.feats.split(\"|\") if not x.startswith(feat) and x != \"_\"] + \n",
    "                            [\"{}{}\".format(\n",
    "                                feat,\n",
    "                                token.feats.split(feat)[1].split(\"|\")[0]\n",
    "                                )]))\n",
    "                    elif feat in token.head_token.feats:\n",
    "                        token.feats = \"|\".join(sorted(\n",
    "                            [x for x in token.feats.split(\"|\") if not x.startswith(feat) and x != \"_\"] + \n",
    "                            [\"{}{}\".format(\n",
    "                                feat,\n",
    "                                token.head_token.feats.split(feat)[1].split(\"|\")[0]\n",
    "                                )]))\n",
    "            else:\n",
    "                for feat in [\"Gender=\", \"Number=\"]:\n",
    "                    if feat in token.head_token.feats:\n",
    "                        token.feats = \"|\".join(sorted(\n",
    "                            [x for x in token.feats.split(\"|\") if not x.startswith(feat) and x != \"_\"] + \n",
    "                            [\"{}{}\".format(\n",
    "                                feat,\n",
    "                                token.head_token.feats.split(feat)[1].split(\"|\")[0]\n",
    "                                )]))\n",
    "                    elif feat in token.feats:\n",
    "                        token.head_token.feats = \"|\".join(sorted(\n",
    "                            [x for x in token.head_token.feats.split(\"|\") if not x.startswith(feat) and x != \"_\"] + \n",
    "                            [\"{}{}\".format(\n",
    "                                feat,\n",
    "                                token.feats.split(feat)[1].split(\"|\")[0]\n",
    "                                )]))\n",
    "            if not token.feats:\n",
    "                token.feats = \"_\"\n",
    "            if not token.head_token.feats:\n",
    "                token.head_token.feats = \"_\"\n",
    "\n",
    "file_name = file.rsplit(\"/\", 1)[1]\n",
    "corpus.save(\"regras.conllu\")\n",
    "os.system(\"cp {} antes-{}\".format(file, file_name))\n",
    "os.system(\"rm regras-correcao.zip; zip regras-correcao.zip antes-{} regras.conllu\".format(file_name))\n",
    "os.remove(\"antes-{}\".format(file_name))\n",
    "os.system(\"python3 ../../conllu-merge-resolver/cosmo.py {} regras.conllu '.*'\".format(file))\n",
    "os.remove(\"regras.conllu\")"
   ]
  },
  {
   "cell_type": "code",
   "execution_count": null,
   "metadata": {},
   "outputs": [],
   "source": []
  }
 ]
}
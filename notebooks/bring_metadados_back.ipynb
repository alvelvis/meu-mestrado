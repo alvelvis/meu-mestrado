{
 "metadata": {
  "language_info": {
   "codemirror_mode": {
    "name": "ipython",
    "version": 3
   },
   "file_extension": ".py",
   "mimetype": "text/x-python",
   "name": "python",
   "nbconvert_exporter": "python",
   "pygments_lexer": "ipython3",
   "version": "3.6.9"
  },
  "orig_nbformat": 2,
  "kernelspec": {
   "name": "python369jvsc74a57bd031f2aee4e71d21fbe5cf8b01ff0e069b9275f58929596ceb00d14d90e3e16cd6",
   "display_name": "Python 3.6.9 64-bit"
  },
  "metadata": {
   "interpreter": {
    "hash": "31f2aee4e71d21fbe5cf8b01ff0e069b9275f58929596ceb00d14d90e3e16cd6"
   }
  }
 },
 "nbformat": 4,
 "nbformat_minor": 2,
 "cells": [
  {
   "cell_type": "code",
   "execution_count": 9,
   "metadata": {},
   "outputs": [
    {
     "output_type": "stream",
     "name": "stdout",
     "text": [
      "sent - A: 167 / 167\nsent - B: 167 / 167\nsent - C: 167 / 167\n"
     ]
    }
   ],
   "source": [
    "with open(\"Petroles_2_golden.conllu\") as f:\n",
    "    golden = f.read().split(\"\\n\\n\")\n",
    "for part in [\"A\", \"B\", \"C\"]:\n",
    "    with open(\"Petroles_2{}.conllu\".format(part)) as f:\n",
    "        conllu = f.read().split(\"\\n\\n\")\n",
    "    print(\"sent - {}: {} / {}\".format(part, len(conllu), len(golden)))\n",
    "    for s, sentence in enumerate(conllu):\n",
    "        # check diff n tokens\n",
    "        if len(list(filter(lambda x: not x.startswith(\"# \"), sentence.splitlines()))) != len(list(filter(lambda x: not x.startswith(\"# \"), golden[s].splitlines()))):\n",
    "            print(\"diff n tokens - {} - {} - {}\".format(part, len(sentence.splitlines()), len(golden.split(\"\\n\\n\")[s].splitlines())))\n",
    "        metadados = list(filter(lambda x: x.startswith(\"# \"), golden[s].splitlines()))\n",
    "        conllu[s] = \"\\n\".join(metadados) + \"\\n\" + conllu[s]\n",
    "\n",
    "    with open(\"Petroles_2_{}.conllu\".format(part), \"w\") as f:\n",
    "        f.write(\"\\n\\n\".join(conllu))\n",
    "    \n",
    "    #with open(\"teste.conllu\", \"w\") as f:\n",
    "        f.write(\"\\n\\n\".join(conllu))\n",
    "    #os.system(\"meld --diff teste.conllu Petroles_2_golden.conllu\".format(part))\n"
   ]
  },
  {
   "cell_type": "code",
   "execution_count": null,
   "metadata": {},
   "outputs": [],
   "source": []
  }
 ]
}
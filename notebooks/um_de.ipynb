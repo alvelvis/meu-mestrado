{
 "metadata": {
  "language_info": {
   "codemirror_mode": {
    "name": "ipython",
    "version": 3
   },
   "file_extension": ".py",
   "mimetype": "text/x-python",
   "name": "python",
   "nbconvert_exporter": "python",
   "pygments_lexer": "ipython3",
   "version": "3.6.9"
  },
  "orig_nbformat": 2,
  "kernelspec": {
   "name": "python369jvsc74a57bd031f2aee4e71d21fbe5cf8b01ff0e069b9275f58929596ceb00d14d90e3e16cd6",
   "display_name": "Python 3.6.9 64-bit"
  },
  "metadata": {
   "interpreter": {
    "hash": "31f2aee4e71d21fbe5cf8b01ff0e069b9275f58929596ceb00d14d90e3e16cd6"
   }
  }
 },
 "nbformat": 4,
 "nbformat_minor": 2,
 "cells": [
  {
   "cell_type": "code",
   "execution_count": null,
   "metadata": {},
   "outputs": [],
   "source": [
    "if not os.path.isfile(\"estrutura_ud.py\"):\n",
    "    ! wget https://raw.githubusercontent.com/alvelvis/ACDC-UD/master/estrutura_ud.py\n",
    "import estrutura_ud"
   ]
  },
  {
   "cell_type": "code",
   "execution_count": null,
   "metadata": {},
   "outputs": [],
   "source": [
    "file = \"../Petroles_3/Petroles_3_golden.conllu\"\n",
    "corpus = estrutura_ud.Corpus(recursivo=True)\n",
    "corpus.load(file)\n",
    "\n",
    "feats = {\n",
    "    'um': 'Gender=Masc|Number=Sing|PronType=Ind',\n",
    "    'uma': 'Gender=Fem|Number=Sing|PronType=Ind',\n",
    "    'uns': 'Gender=Masc|Number=Plur|PronType=Ind',\n",
    "    'umas': 'Gender=Fem|Number=Plur|PronType=Ind'\n",
    "}\n",
    "\n",
    "deprel = {\n",
    "    'NOUN': 'nmod',\n",
    "    'NUM': 'nummod',\n",
    "    'PRON': 'nmod'\n",
    "}\n",
    "\n",
    "deprel_head = {\n",
    "    'VERB': 'obl',\n",
    "    'NOUN': 'nmod',\n",
    "    'ADJ': 'obl',\n",
    "    'PRON': 'nmod',\n",
    "    'PROPN': 'nmod'\n",
    "}\n",
    "\n",
    "for sentence in corpus.sentences.values():\n",
    "    for token in sentence.tokens:\n",
    "        if token.lemma == \"um\" and token.next_token.lemma == \"de\":\n",
    "            if token.deprel in \"nummod\":\n",
    "                token.deprel = deprel_head[token.head_token.upos] if token.head_token.upos in deprel_head else \"CUIDADO\"\n",
    "            if token.upos in [\"DET\"]:\n",
    "                token.deprel = token.head_token.deprel\n",
    "                token.dephead = token.head_token.dephead\n",
    "                token.head_token.deprel = deprel[token.head_token.upos]\n",
    "                token.head_token.dephead = token.id\n",
    "            token.feats = feats[token.word.lower()]\n",
    "            token.upos = \"PRON\"\n",
    "\n",
    "corpus.save(\"teste.conllu\")\n",
    "os.system(\"zip teste.zip {} teste.conllu\".format(file))\n",
    "os.system(\"python3 ../../conllu-merge-resolver/cosmo.py {} teste.conllu '.*'\".format(file))\n",
    "os.remove(\"teste.conllu\")"
   ]
  },
  {
   "cell_type": "code",
   "execution_count": null,
   "metadata": {},
   "outputs": [],
   "source": []
  }
 ]
}
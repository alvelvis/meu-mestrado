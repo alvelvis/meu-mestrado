{
 "metadata": {
  "language_info": {
   "codemirror_mode": {
    "name": "ipython",
    "version": 3
   },
   "file_extension": ".py",
   "mimetype": "text/x-python",
   "name": "python",
   "nbconvert_exporter": "python",
   "pygments_lexer": "ipython3",
   "version": "3.6.9-final"
  },
  "orig_nbformat": 2,
  "kernelspec": {
   "name": "python3",
   "display_name": "Python 3.6.9 64-bit",
   "metadata": {
    "interpreter": {
     "hash": "31f2aee4e71d21fbe5cf8b01ff0e069b9275f58929596ceb00d14d90e3e16cd6"
    }
   }
  }
 },
 "nbformat": 4,
 "nbformat_minor": 2,
 "cells": [
  {
   "cell_type": "code",
   "execution_count": 24,
   "metadata": {},
   "outputs": [],
   "source": [
    "if not os.path.isfile(\"estrutura_ud.py\"):\n",
    "    ! wget https://raw.githubusercontent.com/alvelvis/ACDC-UD/master/estrutura_ud.py\n",
    "import estrutura_ud"
   ]
  },
  {
   "cell_type": "code",
   "execution_count": 33,
   "metadata": {},
   "outputs": [
    {
     "output_type": "stream",
     "name": "stderr",
     "text": [
      "build: 0.8006019592285156"
     ]
    }
   ],
   "source": [
    "file = \"../Petroles_v2/Petroles_2.conllu\"\n",
    "corpus = estrutura_ud.Corpus()\n",
    "corpus.load(file)\n",
    "for sentence in corpus.sentences.values():\n",
    "    for token in sentence.tokens:\n",
    "        if token.lemma == \"ser\" and token.upos == \"AUX\" and token.deprel == \"aux:pass\":\n",
    "            token.head_token.feats = \"|\".join(sorted([x for x in token.head_token.feats.split(\"|\") if x != \"Voice=Pass\"] + [\"Voice=Pass\"]))\n",
    "        if token.lemma != \"ser\" and token.upos == \"AUX\" and token.deprel == \"aux:pass\":\n",
    "            if token.lemma == \"estar\" and token.head_token.upos != \"VERB\":\n",
    "                token.deprel = \"cop\"\n",
    "            else:\n",
    "                token.deprel = \"aux\"\n",
    "    for token in sentence.tokens:\n",
    "        if 'Voice=Pass' in token.feats:\n",
    "            for _token in sentence.tokens:\n",
    "                if _token.dephead == token.id and _token.lemma == \"ser\" and token.upos == \"AUX\":\n",
    "                    _token.deprel = \"aux:pass\"\n",
    "                if _token.dephead == token.id and _token.deprel == \"nsubj\":\n",
    "                    _token.deprel = \"nsubj:pass\"\n",
    "                \n",
    "    for token in sentence.tokens:\n",
    "        if not 'Voice=Pass' in token.head_token.feats and (token.deprel in [\"nsubj:pass\", \"obl:agent\", \"aux:pass\"]):\n",
    "            token.deprel = token.deprel.split(\":\")[0]\n",
    "\n",
    "        if token.deprel == \"cop\" and token.head_token.upos == \"VERB\":\n",
    "            if token.lemma == \"estar\":\n",
    "                token.deprel = \"aux\"\n",
    "            if token.lemma == \"ser\":\n",
    "                token.deprel = token.head_token.deprel\n",
    "                token.dephead = token.head_token.dephead\n",
    "                token.head_token.deprel = \"ccomp\"\n",
    "                token.head_token.dephead = token.id\n",
    "                token.upos = \"VERB\"\n",
    "                for _token in sentence.tokens:\n",
    "                    if _token.dephead == token.head_token.id:\n",
    "                        if _token.deprel in [\"nsubj\", \"punct\"]:\n",
    "                            _token.dephead = token.id\n",
    "\n",
    "\n",
    "corpus.save(\"teste.conllu\")\n",
    "os.system(\"meld --diff {} teste.conllu\".format(file))\n",
    "os.remove(\"teste.conllu\")"
   ]
  },
  {
   "cell_type": "code",
   "execution_count": null,
   "metadata": {},
   "outputs": [],
   "source": []
  }
 ]
}
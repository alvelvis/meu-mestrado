{
 "metadata": {
  "language_info": {
   "codemirror_mode": {
    "name": "ipython",
    "version": 3
   },
   "file_extension": ".py",
   "mimetype": "text/x-python",
   "name": "python",
   "nbconvert_exporter": "python",
   "pygments_lexer": "ipython3",
   "version": "3.6.9-final"
  },
  "orig_nbformat": 2,
  "kernelspec": {
   "name": "python3",
   "display_name": "Python 3.6.9 64-bit",
   "metadata": {
    "interpreter": {
     "hash": "31f2aee4e71d21fbe5cf8b01ff0e069b9275f58929596ceb00d14d90e3e16cd6"
    }
   }
  }
 },
 "nbformat": 4,
 "nbformat_minor": 2,
 "cells": [
  {
   "cell_type": "code",
   "execution_count": 1,
   "metadata": {},
   "outputs": [],
   "source": [
    "if not os.path.isfile(\"estrutura_ud.py\"):\n",
    "    ! wget https://raw.githubusercontent.com/alvelvis/ACDC-UD/master/estrutura_ud.py\n",
    "import estrutura_ud"
   ]
  },
  {
   "cell_type": "code",
   "execution_count": 6,
   "metadata": {},
   "outputs": [
    {
     "output_type": "stream",
     "name": "stderr",
     "text": [
      "build: 10.42759656906128"
     ]
    }
   ],
   "source": [
    "bosque = estrutura_ud.Corpus()\n",
    "bosque.load(\"../Bosque/bosque-workbench.conllu\")"
   ]
  },
  {
   "cell_type": "code",
   "execution_count": 7,
   "metadata": {},
   "outputs": [
    {
     "output_type": "stream",
     "name": "stdout",
     "text": [
      "{'deixar', 'recomeçar', 'voltar', 'passar', 'ir', 'continuar', 'acabar', 'ficar', 'começar', 'ter', 'estar', 'chegar', 'vir', 'andar', 'parar', 'haver', 'ser'}\n"
     ]
    }
   ],
   "source": [
    "list_aux_verbs = set()\n",
    "for sentence in bosque.sentences.values():\n",
    "    for token in sentence.tokens:\n",
    "        if token.deprel == \"aux\" and token.head_token.upos == \"VERB\":\n",
    "            list_aux_verbs.add(token.lemma)\n",
    "print(list_aux_verbs)"
   ]
  },
  {
   "cell_type": "code",
   "execution_count": 24,
   "metadata": {},
   "outputs": [
    {
     "output_type": "stream",
     "name": "stderr",
     "text": [
      "build: 1.7297022342681885"
     ]
    }
   ],
   "source": [
    "file = \"../Petroles_v2/Petroles.conllu\"\n",
    "corpus = estrutura_ud.Corpus()\n",
    "corpus.load(file)\n",
    "for sentence in corpus.sentences.values():\n",
    "    for token in sentence.tokens:\n",
    "        if token.upos == \"VERB\" and token.head_token.lemma in list_aux_verbs and token.deprel == \"xcomp\":\n",
    "            token.deprel = token.head_token.deprel\n",
    "            token.dephead = token.head_token.dephead\n",
    "            token.head_token.dephead = token.id\n",
    "            token.head_token.upos = \"AUX\"\n",
    "            token.head_token.deprel = \"aux\"\n",
    "            for _token in sentence.tokens:\n",
    "                if _token.dephead == token.head_token.id:\n",
    "                    _token.dephead = token.id\n",
    "                if _token.upos in [\"ADP\", \"SCONJ\"] and _token.dephead == token.id:\n",
    "                    _token.deprel = \"compound\"\n",
    "\n",
    "corpus.save(\"teste.conllu\")\n",
    "os.system(\"meld --diff {} teste.conllu\".format(file))\n",
    "os.remove(\"teste.conllu\")"
   ]
  },
  {
   "cell_type": "code",
   "execution_count": null,
   "metadata": {},
   "outputs": [],
   "source": []
  }
 ]
}
{
 "metadata": {
  "language_info": {
   "codemirror_mode": {
    "name": "ipython",
    "version": 3
   },
   "file_extension": ".py",
   "mimetype": "text/x-python",
   "name": "python",
   "nbconvert_exporter": "python",
   "pygments_lexer": "ipython3",
   "version": "3.6.9-final"
  },
  "orig_nbformat": 2,
  "kernelspec": {
   "name": "python3",
   "display_name": "Python 3.6.9 64-bit",
   "metadata": {
    "interpreter": {
     "hash": "31f2aee4e71d21fbe5cf8b01ff0e069b9275f58929596ceb00d14d90e3e16cd6"
    }
   }
  }
 },
 "nbformat": 4,
 "nbformat_minor": 2,
 "cells": [
  {
   "cell_type": "code",
   "execution_count": null,
   "source": [
    "import os\n",
    "if not os.path.isfile(\"estrutura_ud.py\"):\n",
    "    ! wget https://raw.githubusercontent.com/alvelvis/ACDC-UD/master/estrutura_ud.py\n",
    "import estrutura_ud"
   ],
   "outputs": [],
   "metadata": {}
  },
  {
   "cell_type": "code",
   "execution_count": null,
   "source": [
    "file = \"\"\n",
    "cosmo = True\n",
    "corpus = estrutura_ud.Corpus()\n",
    "corpus.load(file)\n",
    "\n",
    "file_name = file.rsplit(\"/\", 1)[1]\n",
    "corpus.save(\"regras.conllu\")\n",
    "os.system(\"rm regras-correcao.zip; cp {0} antes-{1}; zip regras-correcao.zip antes-{1} regras.conllu; rm antes-{1}\".format(file, file_name))\n",
    "if cosmo:\n",
    "    os.system(\"python3 ../../conllu-merge-resolver/cosmo.py {} regras.conllu '.*'\".format(file))\n",
    "else:\n",
    "    os.system(\"meld --diff {} regras.conllu\".format(file))\n",
    "os.remove(\"regras.conllu\")"
   ],
   "outputs": [],
   "metadata": {}
  }
 ]
}
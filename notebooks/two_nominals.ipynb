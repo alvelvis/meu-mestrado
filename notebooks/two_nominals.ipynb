{
 "metadata": {
  "language_info": {
   "codemirror_mode": {
    "name": "ipython",
    "version": 3
   },
   "file_extension": ".py",
   "mimetype": "text/x-python",
   "name": "python",
   "nbconvert_exporter": "python",
   "pygments_lexer": "ipython3",
   "version": "3.6.9-final"
  },
  "orig_nbformat": 2,
  "kernelspec": {
   "name": "python3",
   "display_name": "Python 3.6.9 64-bit",
   "metadata": {
    "interpreter": {
     "hash": "31f2aee4e71d21fbe5cf8b01ff0e069b9275f58929596ceb00d14d90e3e16cd6"
    }
   }
  }
 },
 "nbformat": 4,
 "nbformat_minor": 2,
 "cells": [
  {
   "cell_type": "code",
   "execution_count": 1,
   "metadata": {},
   "outputs": [
    {
     "output_type": "stream",
     "name": "stdout",
     "text": [
      "--2021-03-20 00:26:56--  https://raw.githubusercontent.com/alvelvis/ACDC-UD/master/estrutura_ud.py\n",
      "Resolvendo raw.githubusercontent.com (raw.githubusercontent.com)... 185.199.110.133, 185.199.108.133, 185.199.109.133, ...\n",
      "Conectando-se a raw.githubusercontent.com (raw.githubusercontent.com)|185.199.110.133|:443... conectado.\n",
      "A requisição HTTP foi enviada, aguardando resposta... 200 OK\n",
      "Tamanho: 7332 (7,2K) [text/plain]\n",
      "Salvando em: “estrutura_ud.py”\n",
      "\n",
      "estrutura_ud.py     100%[===================>]   7,16K  --.-KB/s    em 0,09s   \n",
      "\n",
      "2021-03-20 00:26:57 (81,4 KB/s) - “estrutura_ud.py” salvo [7332/7332]\n",
      "\n"
     ]
    }
   ],
   "source": [
    "if not os.path.isfile(\"estrutura_ud.py\"):\n",
    "    ! wget https://raw.githubusercontent.com/alvelvis/ACDC-UD/master/estrutura_ud.py\n",
    "import estrutura_ud"
   ]
  },
  {
   "cell_type": "code",
   "execution_count": 15,
   "metadata": {},
   "outputs": [
    {
     "output_type": "stream",
     "name": "stderr",
     "text": [
      "build: 0.8158910274505615"
     ]
    }
   ],
   "source": [
    "corpus = estrutura_ud.Corpus()\n",
    "corpus.load(\"../Bosque/bosque-workbench.conllu\")\n",
    "\n",
    "for i in range(2):\n",
    "    for sentence in corpus.sentences.values():\n",
    "        if sentence.sent_id not in [\n",
    "            \"1-20140905-TESEDSC_0_resumo-11\",\n",
    "            \"32-20141110-MONOGRAFIA_0_resumo-19\",\n",
    "            \"36-20140327-TESEMSC_0_resumo-6\",\n",
    "            \"51-20140924-MONOGRAFIA_0_resumo-1\",\n",
    "            \"6-20140908-MONOGRAFIA_0_intro-53\",\n",
    "            '105-20151215-MONOGRAFIA_0_resumo-8',\n",
    "            \"32-20141110-MONOGRAFIA_0_resumo-13\",\n",
    "            \"20-20140904-TESEDSC_0-59\",\n",
    "            \"20-20140904-TESEDSC_0-66\",\n",
    "            \"19-20140916-TESEDSC_0_resumo-9\"\n",
    "        ]:\n",
    "            tokens = sentence.tokens\n",
    "            for token in tokens:\n",
    "                if not '-' in token.id and token.deprel not in [\"appos:parataxis\", \"compound\", \"flat:foreign\", \"orphan\"]:\n",
    "                    has_cc = False\n",
    "                    has_colon = False\n",
    "                    has_comma = False\n",
    "                    has_parenthesis = False\n",
    "                    for _token in tokens:\n",
    "                        if _token.dephead == token.id:\n",
    "                            if _token.deprel == \"cc\":\n",
    "                                has_cc = True\n",
    "                            if _token.word in [\",\", \"-\", \"–\", \";\"]:\n",
    "                                has_comma = True\n",
    "                            if _token.word == \"(\":\n",
    "                                has_parenthesis = True\n",
    "                        if _token.dephead == token.id or _token.dephead == token.head_token.id:\n",
    "                            if _token.word == \":\":\n",
    "                                has_colon = True\n",
    "\n",
    "                    if token.upos == \"NOUN\" and token.head_token.upos == \"NOUN\" and int(token.id) > int(token.head_token.id):\n",
    "                        if not any([has_comma, has_cc, has_colon, has_parenthesis]):\n",
    "                            token.deprel = \"nmod\"\n",
    "\n",
    "                    if token.upos == \"NUM\" and token.head_token.upos == \"NOUN\" and int(token.id) > int(token.head_token.id):\n",
    "                        if not any([has_comma, has_cc, has_colon, has_parenthesis]):\n",
    "                            token.deprel = \"nummod\"\n",
    "\n",
    "                    if token.upos == \"PROPN\" and token.head_token.upos == \"NOUN\" and int(token.id) > int(token.head_token.id):\n",
    "                        if not any([has_colon, has_comma, has_parenthesis, has_cc]):\n",
    "                            token.deprel = \"nmod\"\n",
    "\n",
    "                    if token.deprel == \"appos:parataxis\":\n",
    "                        token.deprel = \"nmod:appos\"\n",
    "                    \n",
    "                    if token.upos == \"PROPN\" and token.head_token.upos == \"PROPN\" and int(token.id) > int(token.head_token.id):\n",
    "                        if not any([has_cc, has_comma, has_parenthesis]):\n",
    "                            token.deprel = \"flat:name\"\n",
    "                            if token.head_token == \"flat:name\":\n",
    "                                token.dephead = token.head_token.dephead\n",
    "                            for _token in tokens:\n",
    "                                if _token.dephead == token.id:\n",
    "                                    if _token.upos in [\"ADP\", \"DET\"]:\n",
    "                                        _token.dephead = token.dephead\n",
    "                                        _token.deprel = \"flat:name\"\n",
    "\n",
    "                    if token.head_token.deprel == \"flat:name\":\n",
    "                        token.dephead = token.head_token.dephead# if token.head_token.head_token.deprel != \"flat:name\" else token.head_token.head_token.dephead\n",
    "                        #if not any([has_cc, has_comma]):\n",
    "                        token.deprel = \"flat:name\"\n",
    "                    \n",
    "\n",
    "corpus.save(\"teste.conllu\")\n",
    "! meld --diff Petroles.conllu teste.conllu\n",
    "os.remove(\"teste.conllu\")"
   ]
  },
  {
   "cell_type": "code",
   "execution_count": null,
   "metadata": {},
   "outputs": [],
   "source": []
  },
  {
   "cell_type": "code",
   "execution_count": null,
   "metadata": {},
   "outputs": [],
   "source": []
  }
 ]
}